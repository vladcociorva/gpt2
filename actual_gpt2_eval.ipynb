{
 "cells": [
  {
   "cell_type": "code",
   "execution_count": null,
   "id": "1e7f0ca3",
   "metadata": {},
   "outputs": [],
   "source": [
    "%pip install transformers"
   ]
  },
  {
   "cell_type": "code",
   "execution_count": 14,
   "id": "19316bd2",
   "metadata": {},
   "outputs": [],
   "source": [
    "import torch\n",
    "import torch.nn.functional as F\n",
    "from datasets import load_dataset\n",
    "from transformers import AutoModelForCausalLM, AutoTokenizer"
   ]
  },
  {
   "cell_type": "code",
   "execution_count": 15,
   "id": "008506f6",
   "metadata": {},
   "outputs": [],
   "source": [
    "device = torch.device('cuda' if torch.cuda.is_available() else 'cpu')\n",
    "model = AutoModelForCausalLM.from_pretrained('gpt2').to(device)\n",
    "tokenizer = AutoTokenizer.from_pretrained('gpt2')"
   ]
  },
  {
   "cell_type": "code",
   "execution_count": 16,
   "id": "18eee6f0",
   "metadata": {},
   "outputs": [],
   "source": [
    "dataset = load_dataset('Rowan/hellaswag', split='validation', trust_remote_code=True)"
   ]
  },
  {
   "cell_type": "code",
   "execution_count": null,
   "id": "72c23495",
   "metadata": {},
   "outputs": [],
   "source": [
    "@torch.no_grad()\n",
    "def eval_sample(sample):\n",
    "    \"\"\"HellaSwag completion-style like src/evals\"\"\"\n",
    "    ctx = sample['ctx']\n",
    "    candidates = sample['endings']\n",
    "    label = int(sample['label'])\n",
    "\n",
    "    ctx_ids = tokenizer(ctx, add_special_tokens=False).input_ids\n",
    "    candidates_ids = [tokenizer(c, add_special_tokens=False).input_ids for c in candidates]\n",
    "    candidates_len = [len(ids) for ids in candidates_ids]\n",
    "\n",
    "    sequences = [ctx_ids + candidate_ids for candidate_ids in candidates_ids]\n",
    "    max_len = max(len(seq) for seq in sequences)\n",
    "\n",
    "    padded_sequences = []\n",
    "    candidate_masks = []\n",
    "    for seq, cand_len in zip(sequences, candidates_len):\n",
    "        pad_len = max_len - len(seq)\n",
    "        padded_seq = seq + [tokenizer.eos_token_id] * pad_len\n",
    "        padded_sequences.append(padded_seq)\n",
    "\n",
    "        mask = [0] * len(ctx_ids) + [1] * cand_len + [0] * pad_len\n",
    "        candidate_masks.append(mask)\n",
    "\n",
    "    x = torch.tensor(padded_sequences, device=device)  # (4, max_len)\n",
    "    mask = torch.tensor(candidate_masks, device=device)  # (4, max_len)\n",
    "\n",
    "    out = model(x)\n",
    "    logits = out.logits if hasattr(out, \"logits\") else out[0]\n",
    "\n",
    "    shifted_logits = logits[:, :-1, :]  # (batch, max_len-1, vocab_size)\n",
    "    shifted_targets = x[:, 1:]          # (batch, max_len-1)\n",
    "    shifted_mask = mask[:, 1:]          # (batch, max_len-1)\n",
    "\n",
    "    log_probs = F.log_softmax(shifted_logits, dim=-1)\n",
    "    token_log_probs = torch.gather(log_probs, dim=-1, index=shifted_targets.unsqueeze(-1)).squeeze(-1)\n",
    "    candidate_scores = (token_log_probs * shifted_mask).sum(dim=1)\n",
    "\n",
    "    most_likely = torch.argmax(candidate_scores).item()\n",
    "    return most_likely == label"
   ]
  },
  {
   "cell_type": "code",
   "execution_count": 4,
   "id": "ac14a20f",
   "metadata": {},
   "outputs": [
    {
     "name": "stdout",
     "output_type": "stream",
     "text": [
      "HellaSwag accuracy: 0.2821\n"
     ]
    }
   ],
   "source": [
    "acc = 0.0\n",
    "for sample in dataset:\n",
    "    acc += eval_sample(sample)\n",
    "\n",
    "accuracy = acc / len(dataset)\n",
    "print(f\"HellaSwag accuracy: {accuracy:.4f}\")"
   ]
  }
 ],
 "metadata": {
  "kernelspec": {
   "display_name": ".venv",
   "language": "python",
   "name": "python3"
  },
  "language_info": {
   "codemirror_mode": {
    "name": "ipython",
    "version": 3
   },
   "file_extension": ".py",
   "mimetype": "text/x-python",
   "name": "python",
   "nbconvert_exporter": "python",
   "pygments_lexer": "ipython3",
   "version": "3.12.5"
  }
 },
 "nbformat": 4,
 "nbformat_minor": 5
}
